{
 "cells": [
  {
   "cell_type": "markdown",
   "metadata": {},
   "source": [
    "# Example of Submitting a Request to Chicago's Open 311"
   ]
  },
  {
   "cell_type": "markdown",
   "metadata": {},
   "source": [
    "In this notebook, we'll cover how to submit a 311 request using [Chicago's Open 311](http://dev.cityofchicago.org/docs/open311/). Unfortunately, the documentation isn't all that clear, so we highly recommend you also reference our supplemental documentation for understanding how the API works.\n",
    "\n",
    "We'll go over how to submit a request using Python's request library and see our request show up in the Chicago's Open 311 test environment, which is where we will be posting our request."
   ]
  },
  {
   "cell_type": "markdown",
   "metadata": {},
   "source": [
    "### Imports"
   ]
  },
  {
   "cell_type": "markdown",
   "metadata": {},
   "source": [
    "For this demonstration, all we need is the requests library."
   ]
  },
  {
   "cell_type": "code",
   "execution_count": 33,
   "metadata": {},
   "outputs": [],
   "source": [
    "import requests\n",
    "import json"
   ]
  },
  {
   "cell_type": "markdown",
   "metadata": {},
   "source": [
    "## Request Data"
   ]
  },
  {
   "cell_type": "markdown",
   "metadata": {},
   "source": [
    "In this example, we provide an example of a complete request. However, note that the process of collecting this information for a real request is not covered in this notebook. We have implemented a way of collecting this data from users through a conversational interface, but are currently building out a new way of doing so. For now, we'll use the example below. Note that the request data is of the **dictionary** type."
   ]
  },
  {
   "cell_type": "code",
   "execution_count": 27,
   "metadata": {},
   "outputs": [],
   "source": [
    "request = {\n",
    "  \"service_code\": \"4fd3b656e750846c53000004\",\n",
    "  \"attribute\": {\n",
    "    \"WHEREIST\": {\n",
    "      \"key\": \"INTERSEC\",\n",
    "      \"name\": \"Intersection\"\n",
    "    }},\n",
    "    \"lat\": 41.882785,\n",
    "    \"long\": -87.632409,\n",
    "    \"first_name\": \"FirstName\",\n",
    "    \"last_name\": \"LastName\",\n",
    "    \"email\": \"email@address.com\",\n",
    "    \"address_string\": \"30 N LaSalle Ave\",\n",
    "    \"phone_number\": \"555-555-5555\",\n",
    "    \"description\": \"I saw a pothole on the street\",\n",
    "    \"api_key\": \"f5b2a99e9e6d7f76516f2015479076bf\"\n",
    "  }"
   ]
  },
  {
   "cell_type": "markdown",
   "metadata": {},
   "source": [
    "## Using the requests library to Submit Request Data at Open 311 Endpoint"
   ]
  },
  {
   "cell_type": "markdown",
   "metadata": {},
   "source": [
    "The endpoint for submitting requests to Chicago's Open 311 test envirionment is:"
   ]
  },
  {
   "cell_type": "code",
   "execution_count": 28,
   "metadata": {},
   "outputs": [],
   "source": [
    "ENDPOINT = 'http://test311api.cityofchicago.org/open311/v2/requests.json'"
   ]
  },
  {
   "cell_type": "markdown",
   "metadata": {},
   "source": [
    "Now, we'll use the requests library to send a POST request at the above endpoint and send the dictionary we defined above as the argument for the *data* parameter. What we get in return is a response containing a token, which in the production environment can be used to fetch the request's service request ID."
   ]
  },
  {
   "cell_type": "code",
   "execution_count": 29,
   "metadata": {},
   "outputs": [
    {
     "data": {
      "text/plain": [
       "'[{\"token\":\"5b879587e896227f22811dff\"}]'"
      ]
     },
     "execution_count": 29,
     "metadata": {},
     "output_type": "execute_result"
    }
   ],
   "source": [
    "requests.post(ENDPOINT, data = request).text"
   ]
  },
  {
   "cell_type": "markdown",
   "metadata": {},
   "source": [
    "So, now that we've supposedly pushed the above data to the city's servers, how do we confirm this? We can confirm successful completion of the POST request by doing a GET request on the same endpoint."
   ]
  },
  {
   "cell_type": "code",
   "execution_count": 40,
   "metadata": {
    "scrolled": false
   },
   "outputs": [
    {
     "data": {
      "text/plain": [
       "[{'status': 'submitted',\n",
       "  'service_name': 'Pothole in Street',\n",
       "  'service_code': '4fd3b656e750846c53000004',\n",
       "  'description': 'I saw a pothole on the street',\n",
       "  'updated_datetime': '2018-08-30T01:58:15-05:00',\n",
       "  'address': '30 N LaSalle Ave',\n",
       "  'lat': 41.882785,\n",
       "  'long': -87.632409},\n",
       " {'status': 'submitted',\n",
       "  'service_name': 'Tree Debris',\n",
       "  'service_code': '4fd3bbf8e750846c53000069',\n",
       "  'description': 'testis',\n",
       "  'updated_datetime': '2018-07-23T09:54:18-05:00',\n",
       "  'address': '25 N Michigan Ave, Chicago',\n",
       "  'lat': 41.88207180553836,\n",
       "  'long': -87.62318605816654},\n",
       " {'status': 'submitted',\n",
       "  'service_name': 'Tree Debris',\n",
       "  'service_code': '4fd3bbf8e750846c53000069',\n",
       "  'description': 'Testis',\n",
       "  'updated_datetime': '2018-07-23T09:53:22-05:00',\n",
       "  'address': '25 N Michigan Ave, Chicago',\n",
       "  'lat': 41.88216765952433,\n",
       "  'long': -87.62395853436283}]"
      ]
     },
     "execution_count": 40,
     "metadata": {},
     "output_type": "execute_result"
    }
   ],
   "source": [
    "# GET request on the endpoint and getting the text\n",
    "result = requests.get(ENDPOINT).text\n",
    "\n",
    "# Loading the resulting text into a json format\n",
    "result_json = json.loads(result)\n",
    "\n",
    "# Showing the top 3 results. In the first result, we can see the exact same request we submitted using the data above.\n",
    "result_json[:3]"
   ]
  },
  {
   "cell_type": "markdown",
   "metadata": {},
   "source": [
    "## Wrapping Up"
   ]
  },
  {
   "cell_type": "markdown",
   "metadata": {},
   "source": [
    "Now you've seen how to post data to the city's test environment. The most convoluted part of this whole process, in our opinion, is filling in the **attributes** parameter in the request data. In our supplemental documentation, we show you how to see the attribute options for any given service request type.\n",
    "\n",
    "This tutorial should have shown you how to submit a 311 request to the city's test envirionment. If you have any lingering confusion, please feel free to contact our team at chicagoassistant.team@gmail.com"
   ]
  },
  {
   "cell_type": "code",
   "execution_count": null,
   "metadata": {},
   "outputs": [],
   "source": []
  }
 ],
 "metadata": {
  "kernelspec": {
   "display_name": "Python 3",
   "language": "python",
   "name": "python3"
  },
  "language_info": {
   "codemirror_mode": {
    "name": "ipython",
    "version": 3
   },
   "file_extension": ".py",
   "mimetype": "text/x-python",
   "name": "python",
   "nbconvert_exporter": "python",
   "pygments_lexer": "ipython3",
   "version": "3.6.5"
  }
 },
 "nbformat": 4,
 "nbformat_minor": 2
}
