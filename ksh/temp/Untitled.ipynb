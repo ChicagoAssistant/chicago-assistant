{
 "cells": [
  {
   "cell_type": "code",
   "execution_count": 10,
   "metadata": {},
   "outputs": [],
   "source": [
    "api_311_key=\"f5b2a99e9e6d7f76516f2015479076bf\""
   ]
  },
  {
   "cell_type": "code",
   "execution_count": 11,
   "metadata": {},
   "outputs": [
    {
     "ename": "NameError",
     "evalue": "name 'api_key' is not defined",
     "output_type": "error",
     "traceback": [
      "\u001b[0;31m---------------------------------------------------------------------------\u001b[0m",
      "\u001b[0;31mNameError\u001b[0m                                 Traceback (most recent call last)",
      "\u001b[0;32m<ipython-input-11-2bf5c3df5d0e>\u001b[0m in \u001b[0;36m<module>\u001b[0;34m()\u001b[0m\n\u001b[0;32m----> 1\u001b[0;31m \u001b[0mapi_key\u001b[0m\u001b[0;34m\u001b[0m\u001b[0m\n\u001b[0m",
      "\u001b[0;31mNameError\u001b[0m: name 'api_key' is not defined"
     ]
    }
   ],
   "source": [
    "api_key"
   ]
  },
  {
   "cell_type": "code",
   "execution_count": 12,
   "metadata": {},
   "outputs": [],
   "source": [
    "service_req={'service_code': '4fd3b656e750846c53000004',\n",
    "                 'attribute': {'WHEREIST': {'key': 'INTERSEC', 'name': 'Intersection'},\n",
    "                 'lat': -41.434343,\n",
    "                 'long': 87.13343,\n",
    "                 'first_name': 'Vidal',\n",
    "                 'last_name': 'Anguiano',\n",
    "                 'email': 'vidal.anguiano@gmail.com',\n",
    "                 'address_string': '30 N LaSalle Ave',\n",
    "                 'phone_number': '555-555-5555',\n",
    "                 'description': 'I saw a pothole',\n",
    "                 'api_key': 'apikey'\n",
    "                              }}"
   ]
  },
  {
   "cell_type": "code",
   "execution_count": 12,
   "metadata": {},
   "outputs": [],
   "source": [
    "submitted_req=[{\"status\":\"submitted\",\"service_name\":\"Pothole in Street\",\"service_code\":\"4fd3b656e750846c53000004\",\"description\":\"I saw a pothole on the street\",\"updated_datetime\":\"2018-08-30T01:58:15-05:00\",\"address\":\"30 N LaSalle Ave\",\"lat\":41.882785,\"long\":-87.632409},{\"status\":\"submitted\",\"service_name\":\"Tree Debris\",\"service_code\":\"4fd3bbf8e750846c53000069\",\"description\":\"testis\",\"updated_datetime\":\"2018-07-23T09:54:18-05:00\",\"address\":\"25 N Michigan Ave, Chicago\",\"lat\":41.88207180553836,\"long\":-87.62318605816654},{\"status\":\"submitted\",\"service_name\":\"Tree Debris\",\"service_code\":\"4fd3bbf8e750846c53000069\",\"description\":\"Testis\",\"updated_datetime\":\"2018-07-23T09:53:22-05:00\",\"address\":\"25 N Michigan Ave, Chicago\",\"lat\":41.88216765952433,\"long\":-87.62395853436283},{\"status\":\"submitted\",\"service_name\":\"Tree Debris\",\"service_code\":\"4fd3bbf8e750846c53000069\",\"description\":\"test\",\"updated_datetime\":\"2018-07-23T09:52:52-05:00\",\"address\":\"25 N Michigan Ave, Chicago\",\"lat\":41.88207180553836,\"long\":-87.62318605816654},{\"status\":\"submitted\",\"service_name\":\"Building Violation\",\"service_code\":\"4fd3bd72e750846c530000cd\",\"description\":\"Building Violation at 50 East Harrison Street\\u2014 no bicycle racks on this block .\",\"updated_datetime\":\"2018-07-17T14:59:52-05:00\",\"address\":\"48 E HARRISON ST\",\"lat\":41.87443776977797,\"long\":-87.6261340558365},{\"status\":\"submitted\",\"service_name\":\"Pothole in Street\",\"service_code\":\"4fd3b656e750846c53000004\",\"description\":\"Pothole bike path within park in Street at 5050 South Lake Shore Drive there is no path left. Just dirt.\",\"updated_datetime\":\"2018-07-07T09:42:59-05:00\",\"address\":\"5043 S LAKE SHORE DR WEST\",\"lat\":41.803124276960084,\"long\":-87.58274252534619,\"media_url\":\"http://test311request.cityofchicago.org/media/chicago/report/photos/5b40d172e896227f228110fd/oJYf7Jk.jpg\"},{\"status\":\"submitted\",\"service_name\":\"Pothole in Street\",\"service_code\":\"4fd3b656e750846c53000004\",\"description\":\"klfjdsklafewioqjfsa\",\"updated_datetime\":\"2018-07-06T15:44:30-05:00\",\"address\":\"6133 S Drexel Ave, Chicago, IL 60637, USA\",\"lat\":41.78308670000001,\"long\":-87.6040276},{\"status\":\"submitted\",\"service_name\":\"Pothole in Street\",\"service_code\":\"4fd3b656e750846c53000004\",\"description\":\"no\",\"updated_datetime\":\"2018-07-06T15:05:27-05:00\",\"address\":\"6133 S Drexel Ave, Chicago, IL 60637, USA\",\"lat\":41.78308670000001,\"long\":-87.6040276},{\"status\":\"submitted\",\"service_name\":\"Street Light Out\",\"service_code\":\"4ffa9f2d6018277d400000c8\",\"description\":\"Walk sign out on ne corner of  Light Out at 1200 East Hyde Park Boulevard.\",\"updated_datetime\":\"2018-07-02T21:19:58-05:00\",\"address\":\"1203 E HYDE PARK BLVD\",\"lat\":41.80234986256763,\"long\":-87.5966633355207},{\"status\":\"submitted\",\"service_name\":\"Pothole in Street\",\"service_code\":\"4fd3b656e750846c53000004\",\"description\":\"Pothole in Street at 5032 South Woodlawn Avenue, Chicago, IL, USA. It is deep and opened up again. About to take off an axel. Old patch is failed\",\"updated_datetime\":\"2018-07-01T04:32:53-05:00\",\"address\":\"5030 S WOODLAWN AVE\",\"lat\":41.8032634,\"long\":-87.59738469999999},{\"status\":\"submitted\",\"service_name\":\"Abandoned Vehicle\",\"service_code\":\"4ffa4c69601827691b000018\",\"description\":\"Abandoned bike at 5020 South Lake Shore Drive. West has been here for two years.\",\"updated_datetime\":\"2018-06-30T13:42:22-05:00\",\"address\":\"5058 S LAKE SHORE DR WEST\",\"lat\":41.80261855483223,\"long\":-87.58369487718454,\"media_url\":\"http://test311request.cityofchicago.org/media/chicago/report/photos/5b37cf0de896227f22810f9f/6J3ibpU.jpg\"},{\"status\":\"submitted\",\"service_name\":\"Pothole in Street\",\"service_code\":\"4fd3b656e750846c53000004\",\"description\":\"no\",\"updated_datetime\":\"2018-06-12T00:57:15-05:00\",\"address\":\"6133 S Drexel Ave, Chicago, IL 60637, USA\",\"lat\":41.78308670000001,\"long\":-87.6040276},{\"status\":\"submitted\",\"service_name\":\"Pothole in Street\",\"service_code\":\"4fd3b656e750846c53000004\",\"description\":\"no\",\"updated_datetime\":\"2018-06-11T23:27:02-05:00\",\"address\":\"222 W Merchandise Mart Plaza #470, Chicago, IL 60654, USA\",\"lat\":41.888543,\"long\":-87.6354435},{\"status\":\"submitted\",\"service_name\":\"Pothole in Street\",\"service_code\":\"4fd3b656e750846c53000004\",\"description\":\"There is a pothole in the road\",\"updated_datetime\":\"2018-05-09T13:23:20-05:00\",\"address\":\"109 W ONTARIO ST\",\"lat\":41.8930197,\"long\":-87.6315559},{\"status\":\"submitted\",\"service_name\":\"Pothole in Street\",\"service_code\":\"4fd3b656e750846c53000004\",\"description\":\"yes\",\"updated_datetime\":\"2018-05-09T09:03:25-05:00\",\"address\":\"836 W DIVERSEY PKWY\",\"lat\":41.932948,\"long\":-87.65048999999999},{\"status\":\"submitted\",\"service_name\":\"Pothole in Street\",\"service_code\":\"4fd3b656e750846c53000004\",\"description\":\"yeah - it's in the middle of the road\",\"updated_datetime\":\"2018-05-04T11:46:33-05:00\",\"address\":\"836 W DIVERSEY PKWY\",\"lat\":41.932948,\"long\":-87.65048999999999},{\"status\":\"submitted\",\"service_name\":\"Pothole in Street\",\"service_code\":\"4fd3b656e750846c53000004\",\"description\":\"there is a pothole in the road\",\"updated_datetime\":\"2018-05-03T16:24:03-05:00\",\"address\":\"719 W 48TH ST\",\"lat\":41.806803,\"long\":-87.64385399999999},{\"status\":\"submitted\",\"service_name\":\"Alley Light Out\",\"service_code\":\"4ffa9cad6018277d4000007b\",\"description\":\"there is a street light out\",\"updated_datetime\":\"2018-05-03T16:23:29-05:00\",\"address\":\"719 W 48TH ST\",\"lat\":41.806803,\"long\":-87.64385399999999},{\"status\":\"submitted\",\"service_name\":\"Pothole in Street\",\"service_code\":\"4fd3b656e750846c53000004\",\"description\":\"there is a pothole in the street\",\"updated_datetime\":\"2018-05-03T15:18:35-05:00\",\"address\":\"719 W 48TH ST\",\"lat\":41.806803,\"long\":-87.64385399999999},{\"status\":\"submitted\",\"service_name\":\"Pothole in Street\",\"service_code\":\"4fd3b656e750846c53000004\",\"description\":\"Yeah - it was in the middle of the road\",\"updated_datetime\":\"2018-05-03T08:37:16-05:00\",\"address\":\"836 W DIVERSEY PKWY\",\"lat\":41.932948,\"long\":-87.65048999999999},{\"status\":\"submitted\",\"service_name\":\"Pothole in Street\",\"service_code\":\"4fd3b656e750846c53000004\",\"description\":\"Yeah - there is a pothole in the middle of the road\",\"updated_datetime\":\"2018-05-03T08:28:56-05:00\",\"address\":\"2821 N SHEFFIELD AVE\",\"lat\":41.9333056,\"long\":-87.6536617},{\"status\":\"submitted\",\"service_name\":\"Pothole in Street\",\"service_code\":\"4fd3b656e750846c53000004\",\"description\":\"Yeah - i went outside to check for the mail and there is a giant pothole\",\"updated_datetime\":\"2018-05-03T08:21:10-05:00\",\"address\":\"836 W DIVERSEY PKWY\",\"lat\":41.932948,\"long\":-87.65048999999999},{\"status\":\"submitted\",\"service_name\":\"Graffiti Removal\",\"service_code\":\"4fd3b167e750846744000005\",\"description\":\"there is graffiti in the street\",\"updated_datetime\":\"2018-05-02T15:56:14-05:00\",\"address\":\"719 W 48TH ST\",\"lat\":41.806803,\"long\":-87.64385399999999},{\"status\":\"submitted\",\"service_name\":\"Graffiti Removal\",\"service_code\":\"4fd3b167e750846744000005\",\"description\":\"there is a pothole in the street\",\"updated_datetime\":\"2018-05-02T15:55:38-05:00\",\"address\":\"719 W 48TH ST\",\"lat\":41.806803,\"long\":-87.64385399999999},{\"status\":\"submitted\",\"service_name\":\"Graffiti Removal\",\"service_code\":\"4fd3b167e750846744000005\",\"description\":\"there is graffiti on the building\",\"updated_datetime\":\"2018-05-02T14:52:25-05:00\",\"address\":\"719 W 48TH ST\",\"lat\":41.806803,\"long\":-87.64385399999999},{\"status\":\"submitted\",\"service_name\":\"Graffiti Removal\",\"service_code\":\"4fd3b167e750846744000005\",\"description\":\"there is graffiti on the wall\",\"updated_datetime\":\"2018-05-02T13:42:11-05:00\",\"address\":\"109 W ONTARIO ST\",\"lat\":41.8930197,\"long\":-87.6315559},{\"status\":\"submitted\",\"service_name\":\"Graffiti Removal\",\"service_code\":\"4fd3b167e750846744000005\",\"description\":\"there is graffiti on my wall\",\"updated_datetime\":\"2018-05-02T13:34:15-05:00\",\"address\":\"719 W 48TH ST\",\"lat\":41.806803,\"long\":-87.64385399999999},{\"status\":\"submitted\",\"service_name\":\"Pothole in Street\",\"service_code\":\"4fd3b656e750846c53000004\",\"description\":\"there is a pothole in the street\",\"updated_datetime\":\"2018-05-02T13:32:38-05:00\",\"address\":\"719 W 48TH ST\",\"lat\":41.806803,\"long\":-87.64385399999999},{\"status\":\"submitted\",\"service_name\":\"Pothole in Street\",\"service_code\":\"4fd3b656e750846c53000004\",\"description\":\"there is a pothole in the street\",\"updated_datetime\":\"2018-05-02T13:28:47-05:00\",\"address\":\"719 W 48TH ST\",\"lat\":41.806803,\"long\":-87.64385399999999},{\"status\":\"submitted\",\"service_name\":\"Alley Light Out\",\"service_code\":\"4ffa9cad6018277d4000007b\",\"description\":\"street light out\",\"updated_datetime\":\"2018-05-01T22:53:14-05:00\",\"address\":\"719 W 48TH ST\",\"lat\":41.806803,\"long\":-87.64385399999999},{\"status\":\"submitted\",\"service_name\":\"Pothole in Street\",\"service_code\":\"4fd3b656e750846c53000004\",\"description\":\"there is a pothole in the street\",\"updated_datetime\":\"2018-05-01T22:34:57-05:00\",\"address\":\"719 W 48TH ST\",\"lat\":41.806803,\"long\":-87.64385399999999},{\"status\":\"submitted\",\"service_name\":\"Alley Light Out\",\"service_code\":\"4ffa9cad6018277d4000007b\",\"description\":\"717 w 48th st, chicago il, 60609\",\"updated_datetime\":\"2018-05-01T21:35:28-05:00\",\"address\":\"719 W 48TH ST\",\"lat\":41.806803,\"long\":-87.64385399999999},{\"status\":\"submitted\",\"service_name\":\"Alley Light Out\",\"service_code\":\"4ffa9cad6018277d4000007b\",\"description\":\"717 w 48th st, chicago il, 60609\",\"updated_datetime\":\"2018-05-01T21:35:04-05:00\",\"address\":\"719 W 48TH ST\",\"lat\":41.806803,\"long\":-87.64385399999999},{\"status\":\"submitted\",\"service_name\":\"Pothole in Street\",\"service_code\":\"4fd3b656e750846c53000004\",\"description\":\"717 w 48th st, chicago il, 60609\",\"updated_datetime\":\"2018-05-01T21:34:20-05:00\",\"address\":\"719 W 48TH ST\",\"lat\":41.806803,\"long\":-87.64385399999999},{\"status\":\"submitted\",\"service_name\":\"Pothole in Street\",\"service_code\":\"4fd3b656e750846c53000004\",\"description\":\"Pothole needs filling\",\"updated_datetime\":\"2018-04-26T12:02:19-05:00\",\"address\":\"121 N La Salle St, Chicago IL 60602-1202\",\"lat\":41.882131,\"long\":-87.632357},{\"status\":\"submitted\",\"service_name\":\"Pothole in Street\",\"service_code\":\"4fd3b656e750846c53000004\",\"description\":\"Pothole needs filling\",\"updated_datetime\":\"2018-04-25T13:45:07-05:00\",\"address\":\"9011 S Ashland Ave, Chicago IL 60620-5188\",\"lat\":41.729861,\"long\":-87.662377},{\"status\":\"submitted\",\"service_name\":\"Pothole in Street\",\"service_code\":\"4fd3b656e750846c53000004\",\"description\":\"there is a pothole in the street\",\"updated_datetime\":\"2018-04-24T18:52:34-05:00\",\"address\":\"719 W 48TH ST\",\"lat\":41.806803,\"long\":-87.64385399999999},{\"status\":\"submitted\",\"service_name\":\"Alley Light Out\",\"service_code\":\"4ffa9cad6018277d4000007b\",\"description\":\"cable out\",\"updated_datetime\":\"2018-04-24T18:24:48-05:00\",\"address\":\"719 W 48TH ST\",\"lat\":41.806803,\"long\":-87.64385399999999},{\"status\":\"submitted\",\"service_name\":\"Alley Light Out\",\"service_code\":\"4ffa9cad6018277d4000007b\",\"description\":\"cable out\",\"updated_datetime\":\"2018-04-24T17:56:14-05:00\",\"address\":\"719 W 48TH ST\",\"lat\":41.806803,\"long\":-87.64385399999999},{\"status\":\"submitted\",\"service_name\":\"Pothole in Street\",\"service_code\":\"4fd3b656e750846c53000004\",\"description\":\"there is a pothole in the street\",\"updated_datetime\":\"2018-04-24T17:26:27-05:00\",\"address\":\"719 W 48TH ST\",\"lat\":41.806803,\"long\":-87.64385399999999},{\"status\":\"submitted\",\"service_name\":\"Alley Light Out\",\"service_code\":\"4ffa9cad6018277d4000007b\",\"description\":\"there is a street lamp broken\",\"updated_datetime\":\"2018-04-24T13:42:56-05:00\",\"address\":\"719 W 48TH ST\",\"lat\":41.806803,\"long\":-87.64385399999999},{\"status\":\"submitted\",\"service_name\":\"Alley Light Out\",\"service_code\":\"4ffa9cad6018277d4000007b\",\"description\":\"There is a street light broken\",\"updated_datetime\":\"2018-04-24T13:19:19-05:00\",\"address\":\"719 W 48TH ST\",\"lat\":41.806803,\"long\":-87.64385399999999},{\"status\":\"submitted\",\"service_name\":\"Alley Light Out\",\"service_code\":\"4ffa9cad6018277d4000007b\",\"description\":\"power outage\",\"updated_datetime\":\"2018-04-23T22:59:50-05:00\",\"address\":\"719 W 48TH ST\",\"lat\":41.806803,\"long\":-87.64385399999999},{\"status\":\"submitted\",\"service_name\":\"Pothole in Street\",\"service_code\":\"4fd3b656e750846c53000004\",\"description\":\"there is a pothole in the street\",\"updated_datetime\":\"2018-04-23T22:43:29-05:00\",\"address\":\"719 W 48TH ST\",\"lat\":41.806803,\"long\":-87.64385399999999},{\"status\":\"submitted\",\"service_name\":\"Pothole in Street\",\"service_code\":\"4fd3b656e750846c53000004\",\"description\":\"there is a pothole in the road\",\"updated_datetime\":\"2018-04-19T21:01:57-05:00\",\"address\":\"55 W JACKSON BLVD\",\"lat\":41.8781136,\"long\":-87.6297982},{\"status\":\"submitted\",\"service_name\":\"Sanitation Code Violation\",\"service_code\":\"4fd3b750e750846c5300001d\",\"description\":\"overflowing dumpster in my yard\",\"updated_datetime\":\"2018-04-19T15:05:56-05:00\",\"address\":\"719 W 48TH ST\",\"lat\":41.806803,\"long\":-87.64385399999999},{\"status\":\"submitted\",\"service_name\":\"Sanitation Code Violation\",\"service_code\":\"4fd3b750e750846c5300001d\",\"description\":\"dumpster behind my house is overflowing\",\"updated_datetime\":\"2018-04-19T13:44:44-05:00\",\"address\":\"719 W 48TH ST\",\"lat\":41.806803,\"long\":-87.64385399999999},{\"status\":\"submitted\",\"service_name\":\"Pothole in Street\",\"service_code\":\"4fd3b656e750846c53000004\",\"description\":\"hole near my house\",\"updated_datetime\":\"2018-04-19T13:02:22-05:00\",\"address\":\"109 W HURON ST\",\"lat\":41.8946475,\"long\":-87.6315559},{\"status\":\"submitted\",\"service_name\":\"Graffiti Removal\",\"service_code\":\"4fd3b167e750846744000005\",\"description\":\"There is an obnoxious painting on a sign\",\"updated_datetime\":\"2018-04-19T08:19:16-05:00\",\"address\":\"109 W HURON ST\",\"lat\":41.8946475,\"long\":-87.6315559},{\"status\":\"submitted\",\"service_name\":\"Alley Light Out\",\"service_code\":\"4ffa9cad6018277d4000007b\",\"description\":\"alley light out\",\"updated_datetime\":\"2018-04-17T17:10:45-05:00\",\"address\":\"719 W 48TH ST\",\"lat\":41.806803,\"long\":-87.64385399999999}]"
   ]
  },
  {
   "cell_type": "code",
   "execution_count": 13,
   "metadata": {},
   "outputs": [],
   "source": [
    "#submitted_req"
   ]
  },
  {
   "cell_type": "code",
   "execution_count": 14,
   "metadata": {},
   "outputs": [
    {
     "data": {
      "text/plain": [
       "{'status': 'submitted',\n",
       " 'service_name': 'Pothole in Street',\n",
       " 'service_code': '4fd3b656e750846c53000004',\n",
       " 'description': 'I saw a pothole on the street',\n",
       " 'updated_datetime': '2018-08-30T01:58:15-05:00',\n",
       " 'address': '30 N LaSalle Ave',\n",
       " 'lat': 41.882785,\n",
       " 'long': -87.632409}"
      ]
     },
     "execution_count": 14,
     "metadata": {},
     "output_type": "execute_result"
    }
   ],
   "source": [
    "submitted_req[0]"
   ]
  },
  {
   "cell_type": "code",
   "execution_count": 15,
   "metadata": {},
   "outputs": [
    {
     "name": "stdout",
     "output_type": "stream",
     "text": [
      "50 {'4ffa4c69601827691b000018', '4ffa9f2d6018277d400000c8', '4ffa9cad6018277d4000007b', '4fd3bbf8e750846c53000069', '4fd3b167e750846744000005', '4fd3b750e750846c5300001d', '4fd3b656e750846c53000004', '4fd3bd72e750846c530000cd'}\n",
      "Pothole in Street 4fd3b656e750846c53000004\n",
      "Tree Debris 4fd3bbf8e750846c53000069\n",
      "Building Violation 4fd3bd72e750846c530000cd\n",
      "Street Light Out 4ffa9f2d6018277d400000c8\n",
      "Abandoned Vehicle 4ffa4c69601827691b000018\n",
      "Alley Light Out 4ffa9cad6018277d4000007b\n",
      "Graffiti Removal 4fd3b167e750846744000005\n",
      "Sanitation Code Violation 4fd3b750e750846c5300001d\n"
     ]
    }
   ],
   "source": [
    "y=[]\n",
    "x=set()\n",
    "d={}\n",
    "d_test={}\n",
    "for i in submitted_req:\n",
    "    if i[\"service_code\"] not in x:\n",
    "        d[i[\"service_name\"]]=[i[\"service_code\"],i]\n",
    "        d_test[i[\"service_name\"]]=i[\"service_code\"]\n",
    "    x.add(i[\"service_code\"])\n",
    "    \n",
    "    y.append(i[\"service_code\"])\n",
    "    #print(i[\"service_code\"])\n",
    "    \n",
    "print(len(y),x)\n",
    "for i,j in d_test.items():\n",
    "    print(i,j)\n",
    "    "
   ]
  },
  {
   "cell_type": "code",
   "execution_count": null,
   "metadata": {},
   "outputs": [],
   "source": []
  },
  {
   "cell_type": "code",
   "execution_count": 44,
   "metadata": {},
   "outputs": [],
   "source": [
    "services=[\n",
    "{\n",
    "\"service_code\":\"5215128e0163869e00d1587d\",\n",
    "\"service_name\":\"Test\",\"description\":\"Test Service (does not post to CRM)\",\n",
    "\"metadata\":\"true\",\"type\":\"batch\"},\n",
    "{\"service_code\":\"4ffa4c69601827691b000018\",\n",
    "\"service_name\":\"Abandoned Vehicle\",\n",
    "\"description\":\"Abandoned vehicles are taken to auto pound 3S or 3N where they are -- if not redeemed by the owners -- sold for scrap.\",\n",
    "\"metadata\":\"true\",\n",
    "\"type\":\"batch\",\n",
    "\"keywords\":\"code:SKA\",\n",
    "\"group\":\"Streets & Sanitation\"},\n",
    "{\n",
    "\"service_code\":\"4ffa9cad6018277d4000007b\",\n",
    "\"service_name\":\"Alley Light Out\",\n",
    "\"description\":\"One or more alley lights out, on a wooden pole in the alley itself, are reported under this service request type. Important information needed when reporting alley lights out includes: the exact address that the light/lights are behind, how many lights are out, and if the light(s) are completely out or if they blink on and off intermittently. Alley light repairs are done during the day when the lights are not on, so this information is essential to expedite the repair work.\",\n",
    "\"metadata\":\"true\",\n",
    "\"type\":\"batch\",\n",
    "\"keywords\":\"code:SFA\",\n",
    "\"group\":\"Transportation\"\n",
    "},\n",
    "{\n",
    "\"service_code\":\"4fd3bd72e750846c530000cd\",\n",
    "\"service_name\":\"Building Violation\",\n",
    "\"description\":\"The Department of Buildings supports the safety and quality of life for the residents and visitors of the City of Chicago through enforcement of the Chicago Building Code.\",\n",
    "\"metadata\":\"true\",\n",
    "\"type\":\"batch\",\n",
    "\"keywords\":\"code:BBA\",\n",
    "\"group\":\"Buildings\"\n",
    "},\n",
    "{\"service_code\":\"4fd3b167e750846744000005\",\n",
    "\"service_name\":\"Graffiti Removal\",\"description\":\"Graffiti Blasters employs 13 \\\"blast\\\" trucks that use baking soda under high water pressure to erase painted graffiti from brick, stone and other mineral surfaces. They also use 14 paint trucks to cover graffiti on the remaining surfaces.\",\n",
    "\"metadata\":\"true\",\"type\":\"batch\",\"keywords\":\"code:GRAF\",\"group\":\"Streets & Sanitation\"},\n",
    "{\"service_code\":\"4ffa971e6018277d4000000b\",\"service_name\":\"Pavement Cave-In Survey\",\"description\":\"This code is used to request an inspection of cave-ins within the public way only.  Outside the limits of property line.\",\n",
    "\"metadata\":\"true\",\"type\":\"batch\",\"keywords\":\"code:PBE\",\"group\":\"Transportation\"},{\n",
    "\"service_code\":\"4fd3b656e750846c53000004\",\"service_name\":\"Pothole in Street\",\"description\":\"Report Potholes in public streets\",\n",
    "\"metadata\":\"true\",\"type\":\"batch\",\"keywords\":\"code:PHF\",\"group\":\"Transportation\"},\n",
    "{\"service_code\":\"4fd6e4ece750840569000019\",\"service_name\":\"Restaurant Complaint\",\n",
    "\"description\":\"This service request is used to report problems related to food safety at restaurants.  Do not use this type to report problems relating to pricing, weights, expiration dates or other business issues.  These complaints are to be made under the Department of Business Affairs & Consumer Protection \\\"Consumer Retail Complaint\\\" type code.\",\n",
    "\"metadata\":\"true\",\"type\":\"batch\",\"keywords\":\"code:HFB\",\"group\":\"Health\"},\n",
    "{\"service_code\":\"4fd3b9bce750846c5300004a\",\"service_name\":\"Rodent Baiting / Rat Complaint\",\"description\":\"Chicago's Bureau of Rodent Control investigates every reported rat sighting.  Alley conditions are investigated and damaged carts are replaced.  Rodenticide is placed in rat burrows to eradicate the nest.\",\n",
    "\"metadata\":\"true\",\"type\":\"batch\",\"keywords\":\"code:SGA\",\"group\":\"Streets & Sanitation\"},\n",
    "{\"service_code\":\"4fd3b750e750846c5300001d\",\"service_name\":\"Sanitation Code Violation\",\"description\":\"Chicago's sanitation code is a series of municipal ordinances that require cleanliness and the safe disposal of all trash and debris. Since mid-1994, a major crackdown on overflowing dumpsters has been underway in Chicago.\",\n",
    "\"metadata\":\"true\",\"type\":\"batch\",\"keywords\":\"code:SCB\",\"group\":\"Streets & Sanitation\"},\n",
    "{\"service_code\":\"4ffa995a6018277d4000003c\",\"service_name\":\"Street Cut Complaints\",\"description\":\"Used to identify areas where cuts were made in the street and were not repaired properly and are in need of asphalt improvement.\"\n",
    ",\"metadata\":\"true\",\"type\":\"batch\",\"keywords\":\"code:PHQ\",\"group\":\"Transportation\"},\n",
    "{\"service_code\":\"4ffa9f2d6018277d400000c8\",\"service_name\":\"Street Light Out\",\"description\":\"Report a street light out in your neighborhood.  Street lights are always located on metal poles.  To report alley lights, which are always located on wooden poles, use Alley Light Out.\"\n",
    ",\"metadata\":\"true\",\"type\":\"batch\",\"keywords\":\"code:SFD\",\"group\":\"Transportation\"},{\n",
    "\"service_code\":\"4ffa9db16018277d400000a2\",\"service_name\":\"Traffic Signal Out\",\"description\":\"This is a code that is used to report traffic signal outages.\",\n",
    "\"metadata\":\"true\",\"type\":\"batch\",\"keywords\":\"code:SFB\",\"group\":\"Transportation\"},\n",
    "{\"service_code\":\"4fd3bbf8e750846c53000069\",\"service_name\":\"Tree Debris\",\"description\":\"Use this service type to request a pickup of a pile of branches or bushes. The branches/bushes must be neatly stacked in the alley or City parkway near the curb. Blocking a street, sidewalk of alleyway may result in a sanitation code ticket being issued.\",\n",
    "\"metadata\":\"true\",\"type\":\"batch\",\"keywords\":\"code:SEL\",\"group\":\"Streets & Sanitation\"}\n",
    "]"
   ]
  },
  {
   "cell_type": "code",
   "execution_count": 82,
   "metadata": {},
   "outputs": [],
   "source": [
    "#services"
   ]
  },
  {
   "cell_type": "code",
   "execution_count": 48,
   "metadata": {},
   "outputs": [],
   "source": [
    "what={\"service_code\":\"4fd3b656e750846c53000004\",\n",
    "\"attributes\":\n",
    "[\n",
    "{\"variable\":\"true\",\n",
    "\"code\":\"WHEREIST\",\"datatype\":\"singlevaluelist\",\"required\":\"true\",\"order\":1,\"description\":\"Where is the pothole located?\",\n",
    "\"values\":[{\"key\":\"BIKE\",\"name\":\"Bike Lane\"},{\"key\":\"CROSS\",\"name\":\"Crosswalk\"},\n",
    "{\"key\":\"CURB\",\"name\":\"Curb Lane\"},\n",
    "{\"key\":\"INTERSEC\",\"name\":\"Intersection\"},\n",
    "{\"key\":\"TRAFFIC\",\"name\":\"Traffic Lane\"}\n",
    "]\n",
    "},{\"variable\":\"true\",\n",
    "   \"code\":\"A511OPTN\",\"datatype\":\"string\",\"required\":\"false\",\"datatype_description\":\"Enter number as 999-999-9999\",\n",
    "\"order\":2,\"description\":\"Input mobile # to opt-in for text updates. If already opted-in, add mobile # to contact info.\"\n",
    "}\n",
    "]\n",
    "}"
   ]
  },
  {
   "cell_type": "code",
   "execution_count": 52,
   "metadata": {},
   "outputs": [
    {
     "name": "stdout",
     "output_type": "stream",
     "text": [
      "variable true\n",
      "code WHEREIST\n",
      "datatype singlevaluelist\n",
      "required true\n",
      "order 1\n",
      "description Where is the pothole located?\n",
      "values [{'key': 'BIKE', 'name': 'Bike Lane'}, {'key': 'CROSS', 'name': 'Crosswalk'}, {'key': 'CURB', 'name': 'Curb Lane'}, {'key': 'INTERSEC', 'name': 'Intersection'}, {'key': 'TRAFFIC', 'name': 'Traffic Lane'}]\n",
      "variable true\n",
      "code A511OPTN\n",
      "datatype string\n",
      "required false\n",
      "datatype_description Enter number as 999-999-9999\n",
      "order 2\n",
      "description Input mobile # to opt-in for text updates. If already opted-in, add mobile # to contact info.\n"
     ]
    }
   ],
   "source": [
    "for i in what[\"attributes\"]:\n",
    "    for j,k in i.items():\n",
    "        print(j,k)"
   ]
  },
  {
   "cell_type": "code",
   "execution_count": 53,
   "metadata": {},
   "outputs": [],
   "source": [
    "# Posting"
   ]
  },
  {
   "cell_type": "code",
   "execution_count": 16,
   "metadata": {},
   "outputs": [],
   "source": [
    "import requests\n",
    "import json\n",
    "\n",
    "\n",
    "ENDPOINT = 'http://test311api.cityofchicago.org/open311/v2/requests.json'"
   ]
  },
  {
   "cell_type": "code",
   "execution_count": 17,
   "metadata": {},
   "outputs": [],
   "source": [
    "request = {\n",
    "  \"service_code\": \"4fd3b656e750846c53000004\",\n",
    "  \"attribute\": {\n",
    "    \"WHEREIST\": {\n",
    "      \"key\": \"INTERSEC\",\n",
    "      \"name\": \"Intersection\"\n",
    "    }},\n",
    "    \"lat\": 41.882785,\n",
    "    \"long\": -87.632409,\n",
    "    \"first_name\": \"FirstName\",\n",
    "    \"last_name\": \"LastName\",\n",
    "    \"email\": \"email@address.com\",\n",
    "    \"address_string\": \"30 N LaSalle Ave\",\n",
    "    \"phone_number\": \"555-555-5555\",\n",
    "    \"description\": \"max testign the pothoel\",\n",
    "    \"api_key\": \"f5b2a99e9e6d7f76516f2015479076bf\"\n",
    "  }\n"
   ]
  },
  {
   "cell_type": "code",
   "execution_count": 18,
   "metadata": {},
   "outputs": [
    {
     "data": {
      "text/plain": [
       "'[{\"token\":\"5b8f291fe896227f22811f37\"}]'"
      ]
     },
     "execution_count": 18,
     "metadata": {},
     "output_type": "execute_result"
    }
   ],
   "source": [
    "requests.post(ENDPOINT, data = request).text\n"
   ]
  },
  {
   "cell_type": "code",
   "execution_count": 19,
   "metadata": {},
   "outputs": [],
   "source": [
    "result = requests.get(ENDPOINT).text\n"
   ]
  },
  {
   "cell_type": "code",
   "execution_count": 22,
   "metadata": {},
   "outputs": [
    {
     "data": {
      "text/plain": [
       "str"
      ]
     },
     "execution_count": 22,
     "metadata": {},
     "output_type": "execute_result"
    }
   ],
   "source": [
    "type(result)"
   ]
  },
  {
   "cell_type": "code",
   "execution_count": 20,
   "metadata": {},
   "outputs": [],
   "source": [
    "result_json = json.loads(result)"
   ]
  },
  {
   "cell_type": "code",
   "execution_count": 24,
   "metadata": {},
   "outputs": [
    {
     "data": {
      "text/plain": [
       "{'status': 'submitted',\n",
       " 'service_name': 'Pothole in Street',\n",
       " 'service_code': '4fd3b656e750846c53000004',\n",
       " 'description': 'max testign the pothoel',\n",
       " 'updated_datetime': '2018-09-04T19:53:51-05:00',\n",
       " 'address': '30 N LaSalle Ave',\n",
       " 'lat': 41.882785,\n",
       " 'long': -87.632409}"
      ]
     },
     "execution_count": 24,
     "metadata": {},
     "output_type": "execute_result"
    }
   ],
   "source": [
    "result_json[0]"
   ]
  },
  {
   "cell_type": "code",
   "execution_count": 2,
   "metadata": {},
   "outputs": [],
   "source": [
    "\n",
    "import logging, io, json, warnings\n",
    "from rasa_core.policies.keras_policy import KerasPolicy\n",
    "from rasa_core.agent import Agent\n",
    "logging.basicConfig(level=\"INFO\")\n",
    "warnings.filterwarnings('ignore')"
   ]
  },
  {
   "cell_type": "code",
   "execution_count": 85,
   "metadata": {},
   "outputs": [
    {
     "name": "stdout",
     "output_type": "stream",
     "text": [
      "Writing 'stories_md' (str) to file 'my_stories.md'.\n"
     ]
    }
   ],
   "source": [
    "stories_md = \"\"\"\n",
    "## happy path               <!-- name of the story - just for debugging -->\n",
    "* greet              \n",
    "  - utter_greet\n",
    "* mood_great               <!-- user utterance, in format intent[entities] -->\n",
    "  - utter_happy\n",
    "* mood_affirm\n",
    "  - utter_happy\n",
    "* mood_affirm\n",
    "  - utter_goodbye\n",
    "  \n",
    "  \n",
    "## sad path 1               <!-- this is already the start of the next story -->\n",
    "* greet\n",
    "  - utter_greet             <!-- action the bot should execute -->\n",
    "* mood_unhappy\n",
    "  - utter_cheer_up\n",
    "  - utter_did_that_help\n",
    "* mood_affirm\n",
    "  - utter_happy\n",
    "\n",
    "## good purchase path               <!-- name of the story - for making purchase-->\n",
    "* greet              \n",
    "  - utter_greet\n",
    "* mood_great               <!-- user utterance, in format intent[entities] -->\n",
    "  - utter_happy\n",
    "* mood_affirm\n",
    "  - utter_happy\n",
    "* purchase                  <! -- user intention to purchase things --->\n",
    "  - utter_purchase  \n",
    "* purchase_affirm           <!-- user utterance, in format intent[entities] -->\n",
    "  - utter_purchase\n",
    "* purchase_affirm\n",
    "  - utter_price\n",
    "* mood_affirm\n",
    "  - utter_goodbye\n",
    "  \n",
    "## good purchase path2\n",
    "* greet              \n",
    "  - utter_greet\n",
    "* inform                    <!-- user utterance, in format intent[entities] -->\n",
    "  - utter_ask_item\n",
    "  - utter_show_item\n",
    "  - utter_did_that_help\n",
    "* goodbye\n",
    "    - utter_goodbye\n",
    "\n",
    "## no purchase path               <!-- name of the story - for making purchase-->\n",
    "* greet              \n",
    "  - utter_greet\n",
    "* mood_great               <!-- user utterance, in format intent[entities] -->\n",
    "  - utter_happy\n",
    "* mood_affirm\n",
    "  - utter_happy\n",
    "* purchase                  <! -- user intention to purchase things --->\n",
    "  - utter_purchase  \n",
    "* purchase_deny           <!-- user utterance, in format intent[entities] -->\n",
    "  - utter_purchase\n",
    "* purchase_deny\n",
    "  - utter_ask_item\n",
    "* mood_affirm\n",
    "  - utter_goodbye\n",
    "  \n",
    "  \n",
    "## get weather of location\n",
    "* greet\n",
    "  - utter_greet\n",
    "* mood_great               <!-- user utterance, in format intent[entities] -->\n",
    "  - utter_happy\n",
    "* inform\n",
    "  - utter_ask_location\n",
    "* inform{\"location\": \"Paris\"}\n",
    "  - utter_ask_location\n",
    "* goodbye\n",
    "    - utter_goodbye\n",
    "    - export\n",
    "    \n",
    "## get weather of location\n",
    "* greet\n",
    "    - utter_greet\n",
    "* inform[location=London]\n",
    "    - utter_ask_location\n",
    "* goodbye\n",
    "    - utter_goodbye\n",
    "    - export\n",
    "  \n",
    "  \n",
    "## strange user\n",
    "* mood_affirm\n",
    "  - utter_happy\n",
    "* mood_affirm\n",
    "  - utter_unclear\n",
    "\n",
    "## say goodbye\n",
    "* goodbye\n",
    "  - utter_goodbye\n",
    "\n",
    "\"\"\"\n",
    "\n",
    "%store stories_md > my_stories.md"
   ]
  },
  {
   "cell_type": "code",
   "execution_count": 87,
   "metadata": {},
   "outputs": [
    {
     "name": "stdout",
     "output_type": "stream",
     "text": [
      "Writing 'domain_yml' (str) to file 'my_domain.yml'.\n"
     ]
    }
   ],
   "source": [
    "domain_yml = \"\"\"\n",
    "intents:\n",
    "  - greet\n",
    "  - goodbye\n",
    "  - mood_affirm\n",
    "  - mood_deny\n",
    "  - mood_great\n",
    "  - mood_unhappy\n",
    "  - purchase\n",
    "  - purchase_affirm\n",
    "  - purchase_deny\n",
    "  - inform\n",
    "  - weather\n",
    "  \n",
    "entities:\n",
    " - location\n",
    " - money\n",
    " \n",
    "slots:\n",
    " location:\n",
    "   type: text\n",
    "\n",
    "\n",
    "actions:\n",
    "- utter_greet\n",
    "- utter_cheer_up\n",
    "- utter_purchase\n",
    "- utter_price\n",
    "- utter_did_that_help\n",
    "- utter_ask_item\n",
    "- utter_show_item\n",
    "- utter_happy\n",
    "- utter_goodbye\n",
    "- utter_unclear\n",
    "- utter_ask_location\n",
    "\n",
    "templates:\n",
    "  utter_greet:\n",
    "  - text: \"Hey! How are you?\"\n",
    "  - text: \"Hi How are you?\"\n",
    "  - text: \"What's up\"\n",
    "  - text: \"Bonjour\"\n",
    "\n",
    "  utter_cheer_up:\n",
    "  - text: \"Stay motivated,all is well\"\n",
    "  - text: \"Here is something to make you happy\"\n",
    "  - text: \"Here is something to cheer you up:\"\n",
    "    image: \"https://i.imgur.com/nGF1K8f.jpg\"\n",
    "\n",
    "  utter_did_that_help:\n",
    "  - text: \"Did that help you?\"\n",
    "\n",
    "  utter_unclear:\n",
    "  - text: \"I am not sure what you are aiming for.\"\n",
    "  - text: \"How do you mean? Can you clarify \"\n",
    "  - text: \"Not quite sure what you want. \"\n",
    "  \n",
    "  utter_happy:\n",
    "  - text: \"Great carry on!\" \n",
    "  \n",
    "  utter_purchase:\n",
    "  - text: 'What item do you want to buy?'\n",
    "  - text: 'Here are some recommended products'\n",
    "  - text: 'You want to buy this?'\n",
    "  - text: 'We only have this?'\n",
    "  - text: 'Can you give me the specs ?'\n",
    "  \n",
    "  utter_ask_item:\n",
    "  - text: 'What item do you want to buy?'\n",
    "  - text: 'How many do you want to buy?'\n",
    "  - text: 'Which type?'\n",
    "\n",
    "  utter_show_item:\n",
    "  - text: \"Here are some suggestions.\"\n",
    "  - text: \"Check this one out.\"\n",
    "  - text: \"We only have this product\"\n",
    "  - text: \"Sending sample picture\"\n",
    "    \n",
    "  utter_price:\n",
    "  - text: \"It will cost you this much\"\n",
    "  - text: \"The price is 100\"\n",
    "  - text: \"You will pay\"\n",
    "  - text: \"Here is the bill\"\n",
    "  - text: \"The total cost is 2000, you can pay with your credit card.\"\n",
    "\n",
    "  utter_ask_location:\n",
    "  - text:'In what location?'\n",
    "  - text:'In which place?'\n",
    "  - text:'Where precisely?'\n",
    "\n",
    "  utter_goodbye:\n",
    "  - text: \"Bye\"\n",
    "  - text: \"Talk to you later\"\n",
    "  - text: \"Cu\"\n",
    "  - text: \"Aurevoir\"\n",
    "  - text: \"A bientot \"\n",
    "  - text: \"goodbye\"\n",
    "  - text: \"have a nice day\"\n",
    "  - text: \"see you around\"\n",
    "  - text: \"bye bye\"\n",
    "  - text: \"See you later\"\n",
    "  \n",
    "\"\"\"\n",
    "\n",
    "%store domain_yml > my_domain.yml\n"
   ]
  },
  {
   "cell_type": "code",
   "execution_count": 3,
   "metadata": {},
   "outputs": [
    {
     "name": "stderr",
     "output_type": "stream",
     "text": [
      "Using TensorFlow backend.\n"
     ]
    }
   ],
   "source": [
    "agent = Agent('my_domain.yml', policies=[KerasPolicy()])"
   ]
  },
  {
   "cell_type": "code",
   "execution_count": 6,
   "metadata": {},
   "outputs": [
    {
     "name": "stderr",
     "output_type": "stream",
     "text": [
      "WARNING:rasa_core.training.dsl:Found unknown intent 'purchase                  <! -- user intention to purchase things --->' on line 29. Please, make sure that all intents are listed in your domain yaml.\n",
      "WARNING:rasa_core.training.dsl:Found unknown intent 'purchase                  <! -- user intention to purchase things --->' on line 55. Please, make sure that all intents are listed in your domain yaml.\n",
      "Processed Story Blocks: 100%|██████████| 9/9 [00:00<00:00, 231.17it/s, # trackers=1]\n",
      "Processed Story Blocks: 100%|██████████| 9/9 [00:00<00:00, 139.05it/s, # trackers=9]\n",
      "Processed Story Blocks: 100%|██████████| 9/9 [00:00<00:00, 115.33it/s, # trackers=14]\n",
      "Processed Story Blocks: 100%|██████████| 9/9 [00:00<00:00, 131.86it/s, # trackers=11]\n",
      "INFO:rasa_core.featurizers:Creating states and action examples from collected trackers (by MaxHistoryTrackerFeaturizer)...\n",
      "Processed trackers: 100%|██████████| 285/285 [00:19<00:00, 14.37it/s, # actions=237]\n",
      "INFO:rasa_core.featurizers:Created 237 action examples.\n",
      "INFO:rasa_core.policies.keras_policy:Fitting model with 237 total samples and a validation split of 0.0\n"
     ]
    },
    {
     "name": "stdout",
     "output_type": "stream",
     "text": [
      "_________________________________________________________________\n",
      "Layer (type)                 Output Shape              Param #   \n",
      "=================================================================\n",
      "masking_1 (Masking)          (None, 5, 28)             0         \n",
      "_________________________________________________________________\n",
      "lstm_1 (LSTM)                (None, 32)                7808      \n",
      "_________________________________________________________________\n",
      "dense_1 (Dense)              (None, 14)                462       \n",
      "_________________________________________________________________\n",
      "activation_1 (Activation)    (None, 14)                0         \n",
      "=================================================================\n",
      "Total params: 8,270\n",
      "Trainable params: 8,270\n",
      "Non-trainable params: 0\n",
      "_________________________________________________________________\n",
      "Epoch 1/100\n",
      "237/237 [==============================] - 2s 8ms/step - loss: 2.6394 - acc: 0.1139\n",
      "Epoch 2/100\n",
      "237/237 [==============================] - 0s 245us/step - loss: 2.5438 - acc: 0.3038\n",
      "Epoch 3/100\n",
      "237/237 [==============================] - 0s 248us/step - loss: 2.4636 - acc: 0.4219\n",
      "Epoch 4/100\n",
      "237/237 [==============================] - 0s 252us/step - loss: 2.3797 - acc: 0.4346\n",
      "Epoch 5/100\n",
      "237/237 [==============================] - 0s 243us/step - loss: 2.2817 - acc: 0.4388\n",
      "Epoch 6/100\n",
      "237/237 [==============================] - 0s 254us/step - loss: 2.1603 - acc: 0.4388\n",
      "Epoch 7/100\n",
      "237/237 [==============================] - 0s 238us/step - loss: 2.0513 - acc: 0.4388\n",
      "Epoch 8/100\n",
      "237/237 [==============================] - 0s 288us/step - loss: 2.0117 - acc: 0.4388\n",
      "Epoch 9/100\n",
      "237/237 [==============================] - 0s 251us/step - loss: 1.9763 - acc: 0.4388\n",
      "Epoch 10/100\n",
      "237/237 [==============================] - 0s 228us/step - loss: 1.9536 - acc: 0.4388\n",
      "Epoch 11/100\n",
      "237/237 [==============================] - 0s 259us/step - loss: 1.9274 - acc: 0.4388\n",
      "Epoch 12/100\n",
      "237/237 [==============================] - 0s 251us/step - loss: 1.8935 - acc: 0.4388\n",
      "Epoch 13/100\n",
      "237/237 [==============================] - 0s 254us/step - loss: 1.8653 - acc: 0.4388\n",
      "Epoch 14/100\n",
      "237/237 [==============================] - 0s 267us/step - loss: 1.8503 - acc: 0.4388\n",
      "Epoch 15/100\n",
      "237/237 [==============================] - 0s 254us/step - loss: 1.8328 - acc: 0.4388\n",
      "Epoch 16/100\n",
      "237/237 [==============================] - 0s 242us/step - loss: 1.8096 - acc: 0.4388\n",
      "Epoch 17/100\n",
      "237/237 [==============================] - 0s 243us/step - loss: 1.7743 - acc: 0.4388\n",
      "Epoch 18/100\n",
      "237/237 [==============================] - 0s 255us/step - loss: 1.7699 - acc: 0.4388\n",
      "Epoch 19/100\n",
      "237/237 [==============================] - 0s 234us/step - loss: 1.7266 - acc: 0.4388\n",
      "Epoch 20/100\n",
      "237/237 [==============================] - 0s 254us/step - loss: 1.7066 - acc: 0.4388\n",
      "Epoch 21/100\n",
      "237/237 [==============================] - 0s 231us/step - loss: 1.7057 - acc: 0.4388\n",
      "Epoch 22/100\n",
      "237/237 [==============================] - 0s 252us/step - loss: 1.6535 - acc: 0.4388\n",
      "Epoch 23/100\n",
      "237/237 [==============================] - 0s 230us/step - loss: 1.6355 - acc: 0.4388\n",
      "Epoch 24/100\n",
      "237/237 [==============================] - 0s 260us/step - loss: 1.6061 - acc: 0.4388\n",
      "Epoch 25/100\n",
      "237/237 [==============================] - 0s 235us/step - loss: 1.5976 - acc: 0.4388\n",
      "Epoch 26/100\n",
      "237/237 [==============================] - 0s 271us/step - loss: 1.5552 - acc: 0.4430\n",
      "Epoch 27/100\n",
      "237/237 [==============================] - 0s 256us/step - loss: 1.5115 - acc: 0.4515\n",
      "Epoch 28/100\n",
      "237/237 [==============================] - 0s 299us/step - loss: 1.4904 - acc: 0.4599\n",
      "Epoch 29/100\n",
      "237/237 [==============================] - 0s 271us/step - loss: 1.4415 - acc: 0.4557\n",
      "Epoch 30/100\n",
      "237/237 [==============================] - 0s 282us/step - loss: 1.4101 - acc: 0.4726\n",
      "Epoch 31/100\n",
      "237/237 [==============================] - 0s 263us/step - loss: 1.4003 - acc: 0.5021\n",
      "Epoch 32/100\n",
      "237/237 [==============================] - 0s 270us/step - loss: 1.3284 - acc: 0.5274\n",
      "Epoch 33/100\n",
      "237/237 [==============================] - 0s 256us/step - loss: 1.3032 - acc: 0.5443\n",
      "Epoch 34/100\n",
      "237/237 [==============================] - 0s 249us/step - loss: 1.2905 - acc: 0.5570\n",
      "Epoch 35/100\n",
      "237/237 [==============================] - 0s 260us/step - loss: 1.2385 - acc: 0.5823\n",
      "Epoch 36/100\n",
      "237/237 [==============================] - 0s 224us/step - loss: 1.2247 - acc: 0.5949\n",
      "Epoch 37/100\n",
      "237/237 [==============================] - 0s 259us/step - loss: 1.1798 - acc: 0.5992\n",
      "Epoch 38/100\n",
      "237/237 [==============================] - 0s 246us/step - loss: 1.1678 - acc: 0.6203\n",
      "Epoch 39/100\n",
      "237/237 [==============================] - 0s 264us/step - loss: 1.1279 - acc: 0.6287\n",
      "Epoch 40/100\n",
      "237/237 [==============================] - 0s 249us/step - loss: 1.0840 - acc: 0.6371\n",
      "Epoch 41/100\n",
      "237/237 [==============================] - 0s 219us/step - loss: 1.0548 - acc: 0.6835\n",
      "Epoch 42/100\n",
      "237/237 [==============================] - 0s 235us/step - loss: 1.0508 - acc: 0.6498\n",
      "Epoch 43/100\n",
      "237/237 [==============================] - 0s 226us/step - loss: 0.9940 - acc: 0.6835\n",
      "Epoch 44/100\n",
      "237/237 [==============================] - 0s 207us/step - loss: 0.9699 - acc: 0.7004\n",
      "Epoch 45/100\n",
      "237/237 [==============================] - 0s 225us/step - loss: 0.9714 - acc: 0.7131\n",
      "Epoch 46/100\n",
      "237/237 [==============================] - 0s 241us/step - loss: 0.9219 - acc: 0.7468\n",
      "Epoch 47/100\n",
      "237/237 [==============================] - 0s 221us/step - loss: 0.8789 - acc: 0.7426\n",
      "Epoch 48/100\n",
      "237/237 [==============================] - 0s 223us/step - loss: 0.8898 - acc: 0.7595\n",
      "Epoch 49/100\n",
      "237/237 [==============================] - 0s 250us/step - loss: 0.8717 - acc: 0.7553\n",
      "Epoch 50/100\n",
      "237/237 [==============================] - 0s 228us/step - loss: 0.8653 - acc: 0.7595\n",
      "Epoch 51/100\n",
      "237/237 [==============================] - 0s 222us/step - loss: 0.8097 - acc: 0.7722\n",
      "Epoch 52/100\n",
      "237/237 [==============================] - 0s 238us/step - loss: 0.8012 - acc: 0.7848\n",
      "Epoch 53/100\n",
      "237/237 [==============================] - 0s 228us/step - loss: 0.7928 - acc: 0.8059\n",
      "Epoch 54/100\n",
      "237/237 [==============================] - 0s 231us/step - loss: 0.7586 - acc: 0.8101\n",
      "Epoch 55/100\n",
      "237/237 [==============================] - 0s 245us/step - loss: 0.7365 - acc: 0.8523\n",
      "Epoch 56/100\n",
      "237/237 [==============================] - 0s 224us/step - loss: 0.7252 - acc: 0.8059\n",
      "Epoch 57/100\n",
      "237/237 [==============================] - 0s 217us/step - loss: 0.7146 - acc: 0.8228\n",
      "Epoch 58/100\n",
      "237/237 [==============================] - 0s 261us/step - loss: 0.7083 - acc: 0.8312\n",
      "Epoch 59/100\n",
      "237/237 [==============================] - 0s 222us/step - loss: 0.6822 - acc: 0.8312\n",
      "Epoch 60/100\n",
      "237/237 [==============================] - 0s 252us/step - loss: 0.6491 - acc: 0.8692\n",
      "Epoch 61/100\n",
      "237/237 [==============================] - 0s 212us/step - loss: 0.6552 - acc: 0.8523\n",
      "Epoch 62/100\n",
      "237/237 [==============================] - 0s 244us/step - loss: 0.6428 - acc: 0.8565\n",
      "Epoch 63/100\n",
      "237/237 [==============================] - 0s 211us/step - loss: 0.6224 - acc: 0.8903\n",
      "Epoch 64/100\n",
      "237/237 [==============================] - 0s 230us/step - loss: 0.6082 - acc: 0.8523\n",
      "Epoch 65/100\n",
      "237/237 [==============================] - 0s 252us/step - loss: 0.6047 - acc: 0.8945\n",
      "Epoch 66/100\n",
      "237/237 [==============================] - 0s 241us/step - loss: 0.6173 - acc: 0.8523\n",
      "Epoch 67/100\n",
      "237/237 [==============================] - 0s 289us/step - loss: 0.6105 - acc: 0.8734\n",
      "Epoch 68/100\n",
      "237/237 [==============================] - 0s 275us/step - loss: 0.5648 - acc: 0.8945\n",
      "Epoch 69/100\n",
      "237/237 [==============================] - 0s 342us/step - loss: 0.5903 - acc: 0.8692\n",
      "Epoch 70/100\n",
      "237/237 [==============================] - 0s 302us/step - loss: 0.5366 - acc: 0.8987\n",
      "Epoch 71/100\n",
      "237/237 [==============================] - 0s 288us/step - loss: 0.5319 - acc: 0.8987\n",
      "Epoch 72/100\n",
      "237/237 [==============================] - 0s 233us/step - loss: 0.5055 - acc: 0.9198\n",
      "Epoch 73/100\n",
      "237/237 [==============================] - 0s 244us/step - loss: 0.5277 - acc: 0.8861\n",
      "Epoch 74/100\n",
      "237/237 [==============================] - 0s 237us/step - loss: 0.5004 - acc: 0.8903\n",
      "Epoch 75/100\n",
      "237/237 [==============================] - 0s 248us/step - loss: 0.4901 - acc: 0.9241\n",
      "Epoch 76/100\n",
      "237/237 [==============================] - 0s 227us/step - loss: 0.4992 - acc: 0.8987\n",
      "Epoch 77/100\n",
      "237/237 [==============================] - 0s 221us/step - loss: 0.4741 - acc: 0.9198\n",
      "Epoch 78/100\n",
      "237/237 [==============================] - 0s 282us/step - loss: 0.4790 - acc: 0.9114\n",
      "Epoch 79/100\n",
      "237/237 [==============================] - 0s 323us/step - loss: 0.4661 - acc: 0.9198\n",
      "Epoch 80/100\n",
      "237/237 [==============================] - 0s 266us/step - loss: 0.4331 - acc: 0.9367\n",
      "Epoch 81/100\n",
      "237/237 [==============================] - 0s 248us/step - loss: 0.4576 - acc: 0.9114\n",
      "Epoch 82/100\n",
      "237/237 [==============================] - 0s 272us/step - loss: 0.4278 - acc: 0.9283\n",
      "Epoch 83/100\n",
      "237/237 [==============================] - 0s 246us/step - loss: 0.4043 - acc: 0.9451\n",
      "Epoch 84/100\n",
      "237/237 [==============================] - 0s 243us/step - loss: 0.4003 - acc: 0.9283\n",
      "Epoch 85/100\n",
      "237/237 [==============================] - 0s 220us/step - loss: 0.4096 - acc: 0.9325\n",
      "Epoch 86/100\n",
      "237/237 [==============================] - 0s 199us/step - loss: 0.3872 - acc: 0.9367\n",
      "Epoch 87/100\n",
      "237/237 [==============================] - 0s 222us/step - loss: 0.3699 - acc: 0.9536\n",
      "Epoch 88/100\n",
      "237/237 [==============================] - 0s 217us/step - loss: 0.3823 - acc: 0.9494\n",
      "Epoch 89/100\n",
      "237/237 [==============================] - 0s 213us/step - loss: 0.3826 - acc: 0.9283\n",
      "Epoch 90/100\n",
      "237/237 [==============================] - 0s 287us/step - loss: 0.3739 - acc: 0.9325\n",
      "Epoch 91/100\n",
      "237/237 [==============================] - 0s 303us/step - loss: 0.3696 - acc: 0.9241\n",
      "Epoch 92/100\n",
      "237/237 [==============================] - 0s 262us/step - loss: 0.3346 - acc: 0.9409\n",
      "Epoch 93/100\n",
      "237/237 [==============================] - 0s 253us/step - loss: 0.3460 - acc: 0.9409\n",
      "Epoch 94/100\n",
      "237/237 [==============================] - 0s 252us/step - loss: 0.3453 - acc: 0.9283\n",
      "Epoch 95/100\n",
      "237/237 [==============================] - 0s 260us/step - loss: 0.3463 - acc: 0.9494\n",
      "Epoch 96/100\n",
      "237/237 [==============================] - 0s 222us/step - loss: 0.3291 - acc: 0.9536\n",
      "Epoch 97/100\n",
      "237/237 [==============================] - 0s 241us/step - loss: 0.3205 - acc: 0.9409\n",
      "Epoch 98/100\n",
      "237/237 [==============================] - 0s 201us/step - loss: 0.3374 - acc: 0.9451\n",
      "Epoch 99/100\n",
      "237/237 [==============================] - 0s 210us/step - loss: 0.3019 - acc: 0.9494\n",
      "Epoch 100/100\n",
      "237/237 [==============================] - 0s 204us/step - loss: 0.3031 - acc: 0.9578\n"
     ]
    },
    {
     "name": "stderr",
     "output_type": "stream",
     "text": [
      "INFO:rasa_core.policies.keras_policy:Done fitting keras policy model\n"
     ]
    }
   ],
   "source": [
    "training_data = agent.load_data('my_stories.md')\n",
    "agent.train(\n",
    "        training_data,\n",
    "        validation_split=0.0,\n",
    "        epochs=100\n",
    ")"
   ]
  },
  {
   "cell_type": "code",
   "execution_count": 7,
   "metadata": {},
   "outputs": [
    {
     "name": "stderr",
     "output_type": "stream",
     "text": [
      "INFO:rasa_core.agent:Persisted model to '/home/kshea/python/rasa/temp/models/dialogue'\n"
     ]
    }
   ],
   "source": [
    "\n",
    "# Saving Our Dialogue Models# Saving\n",
    "\n",
    "agent.persist('models/dialogue')"
   ]
  },
  {
   "cell_type": "code",
   "execution_count": 8,
   "metadata": {},
   "outputs": [],
   "source": [
    "from rasa_core.agent import Agent\n",
    "agent = Agent.load('models/dialogue')"
   ]
  },
  {
   "cell_type": "code",
   "execution_count": null,
   "metadata": {},
   "outputs": [
    {
     "name": "stdout",
     "output_type": "stream",
     "text": [
      "Your bot is ready to talk! Type your messages here or send 'stop'\n",
      "Stay motivated,all is well\n",
      "[{'recipient_id': 'default', 'text': 'Great carry on!'}]\n",
      "Great carry on!\n",
      "In what location?\n",
      "[{'recipient_id': 'default', 'text': 'Bye'}]\n",
      "Bye\n",
      "hi\n",
      "[{'recipient_id': 'default', 'text': 'Great carry on!'}]\n",
      "Great carry on!\n",
      "hi\n",
      "[{'recipient_id': 'default', 'text': 'I am not sure what you are aiming for.'}]\n",
      "I am not sure what you are aiming for.\n",
      "In what location?\n",
      "[{'recipient_id': 'default', 'text': 'Great carry on!'}]\n",
      "Great carry on!\n",
      "Hey! How are you?\n",
      "[{'recipient_id': 'default', 'text': 'You want to buy this?'}]\n",
      "You want to buy this?\n",
      "hi\n",
      "[{'recipient_id': 'default', 'text': 'Can you give me the specs ?'}]\n",
      "Can you give me the specs ?\n",
      "Hi\n",
      "[{'recipient_id': 'default', 'text': 'What item do you want to buy?'}]\n",
      "What item do you want to buy?\n",
      "Hi\n",
      "[{'recipient_id': 'default', 'text': 'A bientot '}]\n",
      "A bientot \n",
      "Hi\n",
      "[{'recipient_id': 'default', 'text': 'Great carry on!'}]\n",
      "Great carry on!\n",
      "Hi\n",
      "[{'recipient_id': 'default', 'text': 'Not quite sure what you want. '}]\n",
      "Not quite sure what you want. \n",
      "Hi\n",
      "[{'recipient_id': 'default', 'text': 'Great carry on!'}]\n",
      "Great carry on!\n",
      "Hi\n",
      "[{'recipient_id': 'default', 'text': 'What item do you want to buy?'}]\n",
      "What item do you want to buy?\n"
     ]
    }
   ],
   "source": [
    "print(\"Your bot is ready to talk! Type your messages here or send 'stop'\")\n",
    "while True:\n",
    "    a = input()\n",
    "    if a == 'stop':\n",
    "        break\n",
    "    responses = agent.handle_message(a)\n",
    "    print(responses)\n",
    "    for response in responses:\n",
    "        print(response[\"text\"])"
   ]
  },
  {
   "cell_type": "code",
   "execution_count": null,
   "metadata": {},
   "outputs": [],
   "source": []
  }
 ],
 "metadata": {
  "kernelspec": {
   "display_name": "Python 3",
   "language": "python",
   "name": "python3"
  },
  "language_info": {
   "codemirror_mode": {
    "name": "ipython",
    "version": 3
   },
   "file_extension": ".py",
   "mimetype": "text/x-python",
   "name": "python",
   "nbconvert_exporter": "python",
   "pygments_lexer": "ipython3",
   "version": "3.6.5"
  }
 },
 "nbformat": 4,
 "nbformat_minor": 2
}
