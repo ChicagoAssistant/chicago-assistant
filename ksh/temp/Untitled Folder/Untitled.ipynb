{
 "cells": [
  {
   "cell_type": "code",
   "execution_count": 17,
   "metadata": {},
   "outputs": [
    {
     "name": "stdout",
     "output_type": "stream",
     "text": [
      "Writing 'nlu_md' (str) to file 'nlu.md'.\n"
     ]
    }
   ],
   "source": [
    "nlu_md = \"\"\"\n",
    "## intent:greet\n",
    "- hey\n",
    "- hello\n",
    "- hi\n",
    "- good morning\n",
    "- good evening\n",
    "- hey there\n",
    "- how are you\n",
    "- how u doing\n",
    "- \n",
    "\n",
    "## intent:restaurant_search\n",
    "- i'm looking for a place to eat\n",
    "- I want to grab lunch\n",
    "- I am searching for a dinner spot\n",
    "- i'm looking for a place in the [north](location) of town\n",
    "- show me [chinese](cuisine) restaurants\n",
    "- show me a [mexican](cuisine) place in the [centre](location)\n",
    "- i am looking for an [indian](cuisine) spot\n",
    "- search for restaurants\n",
    "- anywhere in the [west](location)\n",
    "- anywhere near [18328](location)\n",
    "- I am looking for [asian fusion](cuisine) food\n",
    "- I am looking a restaurant in [29432](location)\n",
    "\n",
    "## intent:thankyou\n",
    "- thanks!\n",
    "- thank you\n",
    "- thx\n",
    "- thanks very much\n",
    "\"\"\"\n",
    "%store nlu_md > nlu.md"
   ]
  },
  {
   "cell_type": "code",
   "execution_count": 18,
   "metadata": {},
   "outputs": [
    {
     "name": "stdout",
     "output_type": "stream",
     "text": [
      "Writing 'nlu_config' (str) to file 'nlu_config.yml'.\n"
     ]
    }
   ],
   "source": [
    "nlu_config = \"\"\"\n",
    "language: en\n",
    "pipeline: tensorflow_embedding\n",
    "\"\"\"\n",
    "%store nlu_config > nlu_config.yml"
   ]
  },
  {
   "cell_type": "code",
   "execution_count": null,
   "metadata": {},
   "outputs": [],
   "source": []
  },
  {
   "cell_type": "code",
   "execution_count": 19,
   "metadata": {},
   "outputs": [],
   "source": [
    "# run\n",
    "# python3 -m rasa_nlu.train -c nlu_config.yml --data nlu.md -o models --fixed_model_name nlu --project current --verbose"
   ]
  },
  {
   "cell_type": "code",
   "execution_count": 20,
   "metadata": {},
   "outputs": [
    {
     "name": "stdout",
     "output_type": "stream",
     "text": [
      "INFO:tensorflow:Restoring parameters from ./models/current/nlu/intent_classifier_tensorflow_embedding.ckpt\n"
     ]
    }
   ],
   "source": [
    "from rasa_nlu.model import Interpreter\n",
    "import json\n",
    "interpreter = Interpreter.load(\"./models/current/nlu\")\n"
   ]
  },
  {
   "cell_type": "code",
   "execution_count": 22,
   "metadata": {},
   "outputs": [
    {
     "name": "stdout",
     "output_type": "stream",
     "text": [
      "{\n",
      "  \"intent\": {\n",
      "    \"name\": \"restaurant_search\",\n",
      "    \"confidence\": 0.9624099135398865\n",
      "  },\n",
      "  \"entities\": [],\n",
      "  \"intent_ranking\": [\n",
      "    {\n",
      "      \"name\": \"restaurant_search\",\n",
      "      \"confidence\": 0.9624099135398865\n",
      "    },\n",
      "    {\n",
      "      \"name\": \"greet\",\n",
      "      \"confidence\": 0.0\n",
      "    },\n",
      "    {\n",
      "      \"name\": \"thankyou\",\n",
      "      \"confidence\": 0.0\n",
      "    }\n",
      "  ],\n",
      "  \"text\": \" i'm looking for a place in the chicago of town\"\n",
      "}\n"
     ]
    }
   ],
   "source": [
    "message = \" i'm looking for a place in the chicago of town\"\n",
    "result = interpreter.parse(message)\n",
    "#print(result)\n",
    "print(json.dumps(result, indent=2))"
   ]
  },
  {
   "cell_type": "code",
   "execution_count": 21,
   "metadata": {},
   "outputs": [
    {
     "name": "stdout",
     "output_type": "stream",
     "text": [
      "{\n",
      "  \"intent\": {\n",
      "    \"name\": \"greet\",\n",
      "    \"confidence\": 0.9798070192337036\n",
      "  },\n",
      "  \"entities\": [],\n",
      "  \"intent_ranking\": [\n",
      "    {\n",
      "      \"name\": \"greet\",\n",
      "      \"confidence\": 0.9798070192337036\n",
      "    },\n",
      "    {\n",
      "      \"name\": \"thankyou\",\n",
      "      \"confidence\": 0.0012670643627643585\n",
      "    },\n",
      "    {\n",
      "      \"name\": \"restaurant_search\",\n",
      "      \"confidence\": 0.0\n",
      "    }\n",
      "  ],\n",
      "  \"text\": \"Hi\"\n",
      "}\n"
     ]
    }
   ],
   "source": [
    "message = \"Hi\"\n",
    "result = interpreter.parse(message)\n",
    "print(json.dumps(result, indent=2))"
   ]
  },
  {
   "cell_type": "code",
   "execution_count": 25,
   "metadata": {},
   "outputs": [
    {
     "ename": "NameError",
     "evalue": "name 'post_data' is not defined",
     "output_type": "error",
     "traceback": [
      "\u001b[0;31m---------------------------------------------------------------------------\u001b[0m",
      "\u001b[0;31mNameError\u001b[0m                                 Traceback (most recent call last)",
      "\u001b[0;32m<ipython-input-25-0a0045d4d259>\u001b[0m in \u001b[0;36m<module>\u001b[0;34m()\u001b[0m\n\u001b[1;32m      4\u001b[0m \u001b[0mAPI_ENDPOINT\u001b[0m \u001b[0;34m=\u001b[0m \u001b[0;34m'http://test311api.cityofchicago.org/open311/v2'\u001b[0m\u001b[0;34m\u001b[0m\u001b[0m\n\u001b[1;32m      5\u001b[0m \u001b[0murl\u001b[0m \u001b[0;34m=\u001b[0m \u001b[0mAPI_ENDPOINT\u001b[0m \u001b[0;34m+\u001b[0m \u001b[0;34m'/requests.json'\u001b[0m\u001b[0;34m\u001b[0m\u001b[0m\n\u001b[0;32m----> 6\u001b[0;31m \u001b[0mresponse\u001b[0m \u001b[0;34m=\u001b[0m \u001b[0mrequests\u001b[0m\u001b[0;34m.\u001b[0m\u001b[0mpost\u001b[0m\u001b[0;34m(\u001b[0m\u001b[0murl\u001b[0m\u001b[0;34m,\u001b[0m \u001b[0mdata\u001b[0m \u001b[0;34m=\u001b[0m \u001b[0mpost_data\u001b[0m\u001b[0;34m)\u001b[0m\u001b[0;34m\u001b[0m\u001b[0m\n\u001b[0m\u001b[1;32m      7\u001b[0m \u001b[0mstatus_code\u001b[0m \u001b[0;34m=\u001b[0m \u001b[0mresponse\u001b[0m\u001b[0;34m.\u001b[0m\u001b[0mstatus_code\u001b[0m\u001b[0;34m\u001b[0m\u001b[0m\n\u001b[1;32m      8\u001b[0m \u001b[0mstatus_message\u001b[0m \u001b[0;34m=\u001b[0m \u001b[0mgenerate_post_status_message\u001b[0m\u001b[0;34m(\u001b[0m\u001b[0mstatus_code\u001b[0m\u001b[0;34m)\u001b[0m\u001b[0;34m\u001b[0m\u001b[0m\n",
      "\u001b[0;31mNameError\u001b[0m: name 'post_data' is not defined"
     ]
    }
   ],
   "source": [
    "import requests\n",
    "\n",
    "SERVICE_TYPES = './requests_311/service_types.yml'\n",
    "API_ENDPOINT = 'http://test311api.cityofchicago.org/open311/v2'\n",
    "url = API_ENDPOINT + '/requests.json'\n",
    "response = requests.post(url, data = post_data)\n",
    "status_code = response.status_code\n",
    "status_message = generate_post_status_message(status_code)"
   ]
  },
  {
   "cell_type": "code",
   "execution_count": null,
   "metadata": {},
   "outputs": [],
   "source": []
  }
 ],
 "metadata": {
  "kernelspec": {
   "display_name": "Python 3",
   "language": "python",
   "name": "python3"
  },
  "language_info": {
   "codemirror_mode": {
    "name": "ipython",
    "version": 3
   },
   "file_extension": ".py",
   "mimetype": "text/x-python",
   "name": "python",
   "nbconvert_exporter": "python",
   "pygments_lexer": "ipython3",
   "version": "3.6.5"
  }
 },
 "nbformat": 4,
 "nbformat_minor": 2
}
