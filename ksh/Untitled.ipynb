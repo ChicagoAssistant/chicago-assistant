{
 "cells": [
  {
   "cell_type": "code",
   "execution_count": 71,
   "metadata": {},
   "outputs": [
    {
     "name": "stdout",
     "output_type": "stream",
     "text": [
      "11 0\n",
      "['11', '00']\n",
      "['1', '1', '0', '0']\n",
      "['11', '11', '10', '10', '11', '11', '10', '10', '01', '01', '00', '00', '01', '01', '00', '00'] ['11', '11', '10', '10', '11', '11', '10', '10', '01', '01', '00', '00', '01', '01', '00', '00']\n",
      "{0, 1, 100, 101, 1000, 1001, 10, 11, 1100, 1101, 110, 111, 1010, 1011, 1110, 1111}\n",
      "sorted [0, 1, 10, 11, 100, 101, 110, 111, 1000, 1001, 1010, 1011, 1100, 1101, 1110, 1111]\n"
     ]
    },
    {
     "data": {
      "text/plain": [
       "'10:11'"
      ]
     },
     "execution_count": 71,
     "metadata": {},
     "output_type": "execute_result"
    }
   ],
   "source": [
    "time=\"11:00\"\n",
    "check=time.replace(\":\",\"\")\n",
    "current_min = int(time[3:])\n",
    "current_hour = int(time[:2])\n",
    "print(current_hour,current_min)\n",
    "digits = time.split(':') \n",
    "print(digits)\n",
    "digits = [digits[i][j] for i in range(2) for j in range (2)]\n",
    "print(digits)\n",
    "hours, minutes = [], []\n",
    "from itertools import product\n",
    "for (i, j) in product([0, 1, 2, 3], [0, 1, 2, 3]):\n",
    "    num = digits[i] + digits[j]\n",
    "    if int(num) < 60:\n",
    "        minutes.append(num)\n",
    "    if int(num) < 24:\n",
    "        hours.append(num)\n",
    "\n",
    "       \n",
    "\n",
    "\n",
    "        \n",
    "s=set()\n",
    "print(hours,minutes)\n",
    "\n",
    "\n",
    "for i in hours:\n",
    "    for j in minutes:\n",
    "        x_=int(i+j)\n",
    "        if(x_>=0 and x_<2400):\n",
    "            s.add(x_)   \n",
    "\n",
    "print(s)            \n",
    "li_=list(s)\n",
    "sort_li=sorted(li_)\n",
    "print(\"sorted\",sort_li)\n",
    "ind=sort_li.index(int(check))\n",
    "\n",
    "ret=0\n",
    "\n",
    "if(ind-1<0):\n",
    "    ret=sort_li[len(sort_li)-1]\n",
    "else:\n",
    "    ret=  sort_li[ind-1]\n",
    "    \n",
    "ret=str(ret)\n",
    "ret_l=[]\n",
    "for i in range(4-len(ret)):\n",
    "    ret_l.append(\"0\")\n",
    "\n",
    "temp=\"\".join(str(x) for x in ret_l)\n",
    "final=temp+ret\n",
    "final= final[:2]+\":\"+final[2:]\n",
    "final"
   ]
  },
  {
   "cell_type": "code",
   "execution_count": null,
   "metadata": {},
   "outputs": [],
   "source": []
  },
  {
   "cell_type": "code",
   "execution_count": null,
   "metadata": {},
   "outputs": [],
   "source": []
  },
  {
   "cell_type": "code",
   "execution_count": null,
   "metadata": {},
   "outputs": [],
   "source": []
  },
  {
   "cell_type": "code",
   "execution_count": 69,
   "metadata": {},
   "outputs": [
    {
     "name": "stdout",
     "output_type": "stream",
     "text": [
      "[['X'], ['XX'], ['XX', 'X'], ['XX', 'XX'], ['XX', 'X', 'XX'], ['XXXX', 'XX'], ['XXXXXXX']]\n",
      "[['X'], ['XX'], ['XX', 'X'], ['XX', 'XX'], ['XX', 'X', 'XX'], ['XXXX', 'XX'], ['XXXXXXX']]\n",
      "0 ['XXXXXXX'] 7 2 before\n",
      "0 ['XXXXXXX'] 6 1\n",
      "1 ['XXXX', 'XX'] 7 2 before\n",
      "1 ['XXXX', 'XX'] 7 2 before\n",
      "2 ['XX', 'X', 'XX'] 7 2 before\n",
      "2 ['XX', 'X', 'XX'] 7 2 before\n",
      "2 ['XX', 'X', 'XX'] 7 2 before\n",
      "3 ['XX', 'XX'] 7 2 before\n",
      "3 ['XX', 'XX'] 7 2 before\n",
      "4 ['XX', 'X'] 7 2 before\n",
      "4 ['XX', 'X'] 7 2 before\n",
      "5 ['XX'] 7 2 before\n",
      "6 ['X'] 7 2 before\n"
     ]
    },
    {
     "data": {
      "text/plain": [
       "-1"
      ]
     },
     "execution_count": 69,
     "metadata": {},
     "output_type": "execute_result"
    }
   ],
   "source": [
    "t=[]\n",
    "\n",
    "def cal(P,a,k,m):\n",
    "    print(a)\n",
    "    for le,i in enumerate(a[::-1]):\n",
    "        \n",
    "        k_=k\n",
    "        m_=m\n",
    "        \n",
    "        for j in i:\n",
    "           \n",
    "            print(le,i,k_,m_,\"before\")\n",
    "            if(len(j)>=k):\n",
    "                k_-=1\n",
    "                m_-=1\n",
    "                print(le,i,k_,m_)\n",
    "                if( m_<=0):\n",
    "                    \n",
    "                    return len(P)-le\n",
    "                \n",
    "    return -1\n",
    "            \n",
    "            \n",
    "def solution(P, K,M):\n",
    "    if(K>len(P)):\n",
    "        return -1\n",
    "    day = 1\n",
    "    last_day = -1\n",
    "    bloom_time = P\n",
    "    list_of_zeroes = [0]*len(P)\n",
    "    for rose_number in P:\n",
    "        list_of_zeroes[rose_number - 1] = 'X'\n",
    "\n",
    "        bloom_string = ''.join(str(x) for x in list_of_zeroes)\n",
    "        \n",
    "        bloom_groups = bloom_string.split('0')\n",
    "        #print(bloom_groups)\n",
    "        \n",
    "        d=[]\n",
    "        for group in bloom_groups:\n",
    "            #print(group,len(group))\n",
    "            if len(group) >0:\n",
    "                d.append(group)\n",
    "\n",
    "        t.append(d)\n",
    "        day = day + 1\n",
    "    print(t)\n",
    "    return cal(P,t,K,M)\n",
    "\n",
    "\n",
    "solution([1,2,7,6,4,3,5],7,2)"
   ]
  },
  {
   "cell_type": "code",
   "execution_count": 60,
   "metadata": {},
   "outputs": [
    {
     "name": "stdout",
     "output_type": "stream",
     "text": [
      "[['X'], ['X', 'X'], ['X', 'XX'], ['XXXX'], ['XXXXX']]\n",
      "[['X'], ['X', 'X'], ['X', 'XX'], ['XXXX'], ['XXXXX']]\n",
      "0 ['XXXXX'] 5 1 before\n",
      "0 ['XXXXX'] 4 0\n"
     ]
    },
    {
     "data": {
      "text/plain": [
       "5"
      ]
     },
     "execution_count": 60,
     "metadata": {},
     "output_type": "execute_result"
    }
   ],
   "source": []
  },
  {
   "cell_type": "code",
   "execution_count": 6,
   "metadata": {},
   "outputs": [
    {
     "data": {
      "text/plain": [
       "[['X'], ['X', 'X'], ['X', 'XX'], ['XXXX'], ['XXXXX']]"
      ]
     },
     "execution_count": 6,
     "metadata": {},
     "output_type": "execute_result"
    }
   ],
   "source": [
    "t"
   ]
  },
  {
   "cell_type": "code",
   "execution_count": 9,
   "metadata": {},
   "outputs": [
    {
     "name": "stdout",
     "output_type": "stream",
     "text": [
      "5\n",
      "4\n",
      "1\n",
      "2\n",
      "1\n",
      "1\n",
      "1\n"
     ]
    }
   ],
   "source": [
    "for i in t[::-1]:\n",
    "    for j in i:\n",
    "        print(len(j))\n",
    "        "
   ]
  },
  {
   "cell_type": "code",
   "execution_count": 12,
   "metadata": {},
   "outputs": [
    {
     "name": "stdout",
     "output_type": "stream",
     "text": [
      "XXXXX\n",
      "XXXX\n",
      "X\n",
      "XX\n",
      "X\n",
      "X\n",
      "X\n"
     ]
    }
   ],
   "source": [
    "\n",
    "def cal(a,k,m):\n",
    "    for i,le in enumerate(t[::-1]):\n",
    "        k_=k\n",
    "        m_=m\n",
    "        for j in i:\n",
    "            if(len(j)>k):\n",
    "                k_-=1\n",
    "                m_-=1\n",
    "                if(k_==0 and m_==0):\n",
    "                    return len(t)-i\n",
    "            "
   ]
  },
  {
   "cell_type": "code",
   "execution_count": 15,
   "metadata": {},
   "outputs": [
    {
     "name": "stdout",
     "output_type": "stream",
     "text": [
      "5 ['XXXXX']\n",
      "4 ['XXXX']\n",
      "3 ['X', 'XX']\n",
      "2 ['X', 'X']\n",
      "1 ['X']\n"
     ]
    }
   ],
   "source": [
    "for i,j in enumerate(t[::-1]):\n",
    "    print(len(t)-i,j)"
   ]
  },
  {
   "cell_type": "code",
   "execution_count": 59,
   "metadata": {},
   "outputs": [
    {
     "name": "stdout",
     "output_type": "stream",
     "text": [
      "1 3 1 1 -1\n"
     ]
    }
   ],
   "source": [
    "#l=[1,2,2,2,4,4,3,5,1,2]\n",
    "#l=[1,2,2,2,4,4,3,5]\n",
    "l=[1,1,1,1]\n",
    "f_b='x'\n",
    "f_c=0\n",
    "s_b='y'\n",
    "s_c=0\n",
    "\n",
    "pos=-1\n",
    "list_all=[]\n",
    "max_=-1        \n",
    "        \n",
    "for i in range(len(l)):\n",
    "    if (l[i] not in list_all ):\n",
    "        if (f_b=='x'):\n",
    "            f_b=l[i]\n",
    "            f_c=1\n",
    "        elif( s_b=='y' and f_b!=s_b):\n",
    "            s_b=l[i]\n",
    "            s_c=1\n",
    "        elif (l[i]==f_b):\n",
    "            f_c+=1\n",
    "        elif (l[i]==s_b):\n",
    "            s_c+=1\n",
    "        else:\n",
    "            pos=i\n",
    "            break\n",
    "            \n",
    "print(f_b,f_c,s_b,s_c,pos) \n",
    "prev_b=f_b\n",
    "prev_c=f_c\n",
    "\n",
    "if(f_b==s_b):\n",
    "    max_=f_c\n",
    "else:\n",
    "    max_=f_c+s_c\n",
    "list_all.append(f_b)\n",
    "list_all.append(s_b)\n",
    "\n",
    "\n"
   ]
  },
  {
   "cell_type": "code",
   "execution_count": 60,
   "metadata": {},
   "outputs": [
    {
     "name": "stdout",
     "output_type": "stream",
     "text": [
      "[1, 1]\n",
      "7\n"
     ]
    }
   ],
   "source": [
    "\n",
    "def change(a):\n",
    "    \n",
    "    global max_,prev_b,prev_c,f_c,s_c,f_b,s_b,list_all\n",
    "    \n",
    "    if(f_b==s_b):\n",
    "        temp=f_c\n",
    "    else:\n",
    "        temp=f_c+s_c\n",
    "\n",
    "    \n",
    "    if(temp>max_):\n",
    "        max_=temp\n",
    "    \n",
    "    prev_b=f_b\n",
    "    prev_c=f_c\n",
    "    f_b=s_b\n",
    "    f_c=s_c\n",
    "    s_b=a\n",
    "    s_c=1\n",
    "    list_all.append(f_b)\n",
    "    list_all.append(s_b)\n",
    "\n",
    "def update(b):\n",
    "    global f_c,s_c\n",
    "    if(b==f_b):\n",
    "        f_c+=1\n",
    "    else:\n",
    "        s_c+=1\n",
    "\n",
    "print(list_all)\n",
    "\n",
    "for i in range(pos,len(l)):\n",
    "    if(l[i] not in list_all or i==len(l)-1):\n",
    "        change(l[i])\n",
    "    else:\n",
    "        update(l[i])\n",
    "print(max_) "
   ]
  },
  {
   "cell_type": "code",
   "execution_count": null,
   "metadata": {},
   "outputs": [],
   "source": []
  },
  {
   "cell_type": "code",
   "execution_count": 46,
   "metadata": {},
   "outputs": [
    {
     "name": "stdout",
     "output_type": "stream",
     "text": [
      "4\n"
     ]
    }
   ],
   "source": [
    "\n",
    "\n",
    "\n",
    "\n",
    "   "
   ]
  },
  {
   "cell_type": "code",
   "execution_count": 22,
   "metadata": {},
   "outputs": [],
   "source": []
  },
  {
   "cell_type": "code",
   "execution_count": null,
   "metadata": {},
   "outputs": [],
   "source": []
  }
 ],
 "metadata": {
  "kernelspec": {
   "display_name": "Python 3",
   "language": "python",
   "name": "python3"
  },
  "language_info": {
   "codemirror_mode": {
    "name": "ipython",
    "version": 3
   },
   "file_extension": ".py",
   "mimetype": "text/x-python",
   "name": "python",
   "nbconvert_exporter": "python",
   "pygments_lexer": "ipython3",
   "version": "3.6.5"
  }
 },
 "nbformat": 4,
 "nbformat_minor": 2
}
